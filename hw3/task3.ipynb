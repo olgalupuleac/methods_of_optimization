{
 "cells": [
  {
   "cell_type": "code",
   "execution_count": 49,
   "metadata": {},
   "outputs": [],
   "source": [
    "import numpy as np"
   ]
  },
  {
   "cell_type": "code",
   "execution_count": 7,
   "metadata": {},
   "outputs": [
    {
     "name": "stdout",
     "output_type": "stream",
     "text": [
      "[ 0.08703704 -0.81349206  1.69312169 -0.03968254]\n"
     ]
    }
   ],
   "source": [
    "def poly_regression(x, y, n):\n",
    "    return np.polyfit(x, y, n)\n",
    "\n",
    "print(poly_regression(np.array([0.0, 1.0, 2.0, 3.0,  4.0,  5.0]), np.array([0.0, 0.8, 0.9, 0.1, -0.8, -1.0]), 3))"
   ]
  },
  {
   "cell_type": "code",
   "execution_count": 4,
   "metadata": {},
   "outputs": [
    {
     "name": "stdout",
     "output_type": "stream",
     "text": [
      "[0.70710678 0.70710678 0.70710678]\n",
      "(0.5, 0.5, 0.7071067811865476, 0.0)\n"
     ]
    }
   ],
   "source": [
    "import numpy as np\n",
    "from scipy import optimize\n",
    "from matplotlib import pyplot as plt, cm, colors\n",
    "\n",
    "def calculate_radius(x, y, x_center, y_center):\n",
    "    \"\"\" calculate the distance of each 2D points from the center (xc, yc) \"\"\"\n",
    "    return np.sqrt((x - x_center) ** 2 + (y - y_center) ** 2)\n",
    "\n",
    "def f(c, x, y):\n",
    "    \"\"\" calculate the algebraic distance between the data points and the mean circle centered at c=(xc, yc) \"\"\"\n",
    "    Ri = calculate_radius(x, y, *c)\n",
    "    return Ri - Ri.mean()\n",
    "\n",
    "def leastsq_circle(x,y):\n",
    "    # coordinates of\n",
    "    #  barycenter\n",
    "    x_m = np.mean(x)\n",
    "    y_m = np.mean(y)\n",
    "    center_estimate = x_m, y_m\n",
    "    center, ier = optimize.leastsq(f, center_estimate, args=(x,y))\n",
    "    xc, yc = center\n",
    "    Ri       = calc_R(x, y, xc, yc)\n",
    "    print(Ri)\n",
    "    R        = Ri.mean()\n",
    "    return xc, yc, R\n",
    "\n",
    "print(leastsq_circle(np.array([0, 0, 1]), np.array([0, 1, 0])))"
   ]
  }
 ],
 "metadata": {
  "kernelspec": {
   "display_name": "Python 3",
   "language": "python",
   "name": "python3"
  },
  "language_info": {
   "codemirror_mode": {
    "name": "ipython",
    "version": 3
   },
   "file_extension": ".py",
   "mimetype": "text/x-python",
   "name": "python",
   "nbconvert_exporter": "python",
   "pygments_lexer": "ipython3",
   "version": "3.6.2"
  }
 },
 "nbformat": 4,
 "nbformat_minor": 2
}
